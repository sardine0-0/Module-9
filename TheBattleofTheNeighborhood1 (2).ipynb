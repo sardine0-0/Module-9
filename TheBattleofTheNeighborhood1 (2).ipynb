{
 "cells": [
  {
   "cell_type": "markdown",
   "metadata": {},
   "source": [
    "### The Battle of the Neighborhood (1/2)"
   ]
  },
  {
   "cell_type": "markdown",
   "metadata": {},
   "source": [
    "#### 1. Description of the problem and discussion of the background\n",
    "\n",
    "Little India is a successful Indian restaurant in the neighborhood Blabla of Toronto. The owner wants to expand to other cities, but doesn't know where it is best to invest: should he go for a bigger city, where the great diversity of the population ensures numerous clients but where competition is fierce, or open a branch overseas, in a smaller city, with a potential risk that the demand for indian food is lower. The owner of Little India knows NY and Zurich for having living there, but wants facts and figures of the current situation to confirm his impressions. \n",
    "We have been commissioned by Little India to make a first market analysis in order to gain insights about current venues situation in New York (NY) and Zurich as possible places to expand, and to compare it with Toronto. \n",
    "\n",
    "Both New York City and Toronto are the financial capitals of their respective country, and are very interesting cities in North America. Nevertheless, both cities are very different: for example, New York has 8.4 million inhabitants (2018, Wikipedia), when Toronto only has 2.9 million (2017, Wikipedia). Just like NY or Toronto, Zurich is the financial capital of Switzerland without being its administrative capital. Zurich has 0.4 million inhabitants (2017, Wikipedia) and is therefore significantly smaller than Toronto or New York. \n",
    "\n",
    "We want to assess the differences between these cities by comparing the venues in their neighborhoods: can we see significant differences between the density of venues between NY, Zurich and Toronto? Are the types of venues different? Can we make a conclusion about the similarity or disimilarity between these cities out of these Data? Can the difference be explained by cultural differences between North America and Europe? Is Zurich less cosmopolitan than New York or Toronto due to its smaller size? Can founded affirmations and recommandations be made to the owner of Little India out this first market analysis?\n",
    "\n",
    "Goal of the following analysis is to use Foursquare data to analyse the differences/similarities between the different neighborhoods of New York, Toronto and Zurich, based on:\n",
    "- the density of venues within a defined radius per neighborhood\n",
    "- types of most common venues per neighborhoods \n",
    "The analysis will be followed by a discussion and critic of this method of comparison (advantages, shortcoming, etc.). "
   ]
  },
  {
   "cell_type": "markdown",
   "metadata": {},
   "source": [
    "#### 2. Description of the Data and of how it will be used to solve the Problem\n",
    "\n",
    "In order to achieve our goals, the following steps will be followed: \n",
    "    \n",
    "1. Toronto: data mining, preprocessing and preparation of the data\n",
    "    1. Download the dataset for Toronto neighborhoods (Borough, Neighborhood, Longitude, Latitude)-> use the data out of the previous lab (Week 3, extracted from Wikipedia Page) and create a panda dataframe \n",
    "    2. For each neighborhoods, get the number of venues within a radius of x -> get the data out of foursquare \n",
    "    3. For each neighborhoods, get the most common type of venues out of Foursquare Data \n",
    "    \n",
    "    \n",
    "2. NY City: data mining, preprocessing and preparation of the data\n",
    "    1. Download the dataset for NY neighborhoods (Borough, Neighborhood, Longitude, Latitude)-> use the data out of the previous lab and create a panda dataframe\n",
    "    2. For each neighborhoods, get the number of venues within a radius of x -> get the data out of foursquare\n",
    "    3. For each neighborhoods, get the most common type of venues out of Foursquare Data \n",
    "\n",
    "\n",
    "3. Zurich: data mining, preprocessing and preparation of the data\n",
    "    1. Find the dataset for Zurich neighborhoods (Borough, Neighborhood, Longitude, Latitude)-> data are available on wikipedia\n",
    "    2. For each neighborhoods, get the number of venues within a radius of x -> get the data out of foursquare \n",
    "    3. For each neighborhoods, get the most common type of venues out of Foursquare Dat\n",
    "\n",
    "Analyse the Data: \n",
    "\n",
    "An important point before starting the analysis is to make sure that the data have similar format and can be compared. The similar format will be ensured during the preprocessing of the data. \n",
    "In order to compare the cities, the radius for which the venues will be extracted will be kept similar for each city. \n",
    "The results will be shown as the number of venues divided by the numbers of neighborhoods. In addition, we will look at the most common venue in each city, and see if the results are different for NY, Toronto and Zurich.\n",
    "\n",
    "Out of the results, we will try to assess how similar NY, Zurich and Toronto are, and determine if relevant recommendations can be made for the owner of Little India. The depth and types of analysis will depend on the type of results and will be re evaluated and re-thought at every step of the process.  "
   ]
  },
  {
   "cell_type": "markdown",
   "metadata": {},
   "source": [
    "*This work was completed with Y. Kaelin*"
   ]
  },
  {
   "cell_type": "code",
   "execution_count": null,
   "metadata": {},
   "outputs": [],
   "source": []
  }
 ],
 "metadata": {
  "kernelspec": {
   "display_name": "Python",
   "language": "python",
   "name": "conda-env-python-py"
  },
  "language_info": {
   "codemirror_mode": {
    "name": "ipython",
    "version": 3
   },
   "file_extension": ".py",
   "mimetype": "text/x-python",
   "name": "python",
   "nbconvert_exporter": "python",
   "pygments_lexer": "ipython3",
   "version": "3.6.10"
  }
 },
 "nbformat": 4,
 "nbformat_minor": 4
}
