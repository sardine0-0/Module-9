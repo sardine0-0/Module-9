{
 "cells": [
  {
   "cell_type": "markdown",
   "metadata": {},
   "source": [
    "# Report on the analysis"
   ]
  },
  {
   "cell_type": "markdown",
   "metadata": {},
   "source": [
    "#### 1. Introduction\n",
    "\n",
    "Both New York City and Toronto are the financial capitals of their respective country, and are very interesting cities in North America. Nevertheless, both cities are very different: for example, New York has 8.4 million inhabitants (2018, Wikipedia), when Toronto only has 2.9 million (2017, Wikipedia). Just like NY or Toronto, Zurich is the financial capital of Switzerland without being its administrative capital. Zurich has 0.4 million inhabitants (2017, Wikipedia) and is therefore significantly smaller than Toronto or New York. \n",
    "\n",
    "Little India is a successful Indian restaurant in the Old Town of Toronto. The owner wants to expand to other cities, but doesn't know where it is best to invest: should he go for a bigger city, where the great diversity of the population ensures numerous clients but where competition is fierce, or open a branch overseas, in a smaller city, with a potential risk that the demand for indian food is lower. The owner of Little India knows NY and Zurich for having living there, but wants facts and figures of the current situation to confirm his impressions. \n",
    "We have been commissioned by Little India to make a first market analysis in order to gain insights about current venues situation in New York (NY) and Zurich as possible places to expand, and to compare it with Toronto. \n",
    "\n",
    "We want to assess the differences between these cities by comparing the venues in their neighborhoods: can we see significant differences between the density of venues between NY, Zurich and Toronto? Are the types of venues different? Can we make a conclusion about the similarity or disimilarity between these cities out of these Data? Can the difference be explained by cultural differences between North America and Europe? Is Zurich less cosmopolitan than New York or Toronto due to its smaller size? Can founded affirmations and recommandations be made to the owner of Little India out this first market analysis?\n",
    "\n",
    "As imagined for our case study, an exploration analysis of the venues (for example in terms of types and density) can be very useful in order to get the big picture over the type economical terrain of cities. The advantage of this analysis is to rapidly obtain facts and figures that can support a business case, for instance for opening a restaurant. The advantage is that the data are available and can quickly be updated (you could even look at the evolution over time). Facts and figures are a pre requisite in order to convince banks and investors and are the start of every good business case. \n",
    "\n",
    "**Business Problem**: to gain a rapid basic market understanding of geographical areas (NY, Toronto, Zurich), based on an exploratory analysis of venues, in order to draw first conclusions based on facts and figures regarding the implementation of a new venue type in an area (indian restaurant).\n",
    "\n",
    "**Stakeholders**: futur owner of the new venue and investors in the new venue\n"
   ]
  },
  {
   "cell_type": "markdown",
   "metadata": {},
   "source": [
    "#### 2. Data \n",
    "\n",
    "In order to persue our analysis, we need geographical Data of the three cities: neighborhood, latitude, longitude. Luckily, some data were already available from the previsous lab of this module:\n",
    "- Toronto: as seen during Week 3 of this module, - the data can be downloaded out of a wikipedia page (https://en.wikipedia.org/wiki/List_of_postal_codes_of_Canada:_M)\n",
    "- New York: Data are available as a json file dataset from Week 2\n",
    "- The Data for Zurich had to be search online and were found to be available on wikipedia too\n",
    "\n",
    "The data had then to be pre-processed in order to obtain comparable dataset: the data were preprocessed into dataframes with 4 columns: Borough, Neighborhood, Latitude and Longitude. In a second phase, data about the venues were extracted form Foursquare and processed (sorted, eliming non-food related business, etc.)\n",
    "\n",
    "1. Toronto: data mining, preprocessing and preparation of the data\n",
    "    1. Download the dataset for Toronto neighborhoods (Borough, Neighborhood, Longitude, Latitude)-> use the data out of the previous lab (Week 3, extracted from Wikipedia Page) and create a panda dataframe \n",
    "    2. For each neighborhoods, get the number of venues within a radius of x -> get the data out of foursquare \n",
    "    3. For each neighborhoods, get the most common type of venues out of Foursquare Data \n",
    "    \n",
    "2. NY City: data mining, preprocessing and preparation of the data\n",
    "    1. Download the dataset for NY neighborhoods (Borough, Neighborhood, Longitude, Latitude)-> use the data out of the previous lab and create a panda dataframe\n",
    "    2. For each neighborhoods, get the number of venues within a radius of x -> get the data out of foursquare\n",
    "    3. For each neighborhoods, get the most common type of venues out of Foursquare Data \n",
    "\n",
    "\n",
    "3. Zurich: data mining, preprocessing and preparation of the data\n",
    "    1. Find the dataset for Zurich neighborhoods (Borough, Neighborhood, Longitude, Latitude)-> data are available on wikipedia\n",
    "    2. For each neighborhoods, get the number of venues within a radius of x -> get the data out of foursquare \n",
    "    3. For each neighborhoods, get the most common type of venues out of Foursquare Dat\n"
   ]
  },
  {
   "cell_type": "markdown",
   "metadata": {},
   "source": [
    "#### 3. Methodology \n",
    "\n",
    "We followed standard method for Data Science analysis:\n",
    "1. **Business understanding & analytical approach**: we started by refining the problem to be solved and to think of what could be the possible output of this analysis. One pre-requisite was to make sure that we had enough understanding of the business: due to our exprience in the previous lab of this module, we had already gathered sufficient insight to feel comfortable starting in that direction.\n",
    "\n",
    "2. **Data requirement, collection, understanding and preparation**: we had to obtain comparable datasets for each city, with the required quality and required informations. The first step was to acquire the data by scraping them from Webpages. The second step was to determined if the dataset for each city was plausible and correct or not. Out of the previous labs, we knew that the dataset for NY and Toronto were correct and of good quality. Regarding the dataset for Zurich, we used our own knowledge of the city to assess the quality of the data. The format and size of the data was regularly checked by the use of the 'head' and 'shape' function in order to make sure that data were of good quality, size and format. Necessary adjustments were done when needed. The data had then to be pre-processed in order to obtain comparable dataset: the data were preprocessed into dataframes with 4 columns: Borough, Neighborhood, Latitude and Longitude. The results were displayed on a map in order to aquire have a fast way of visualising the neighborhoods.Once the data were prepared, the exploratory analysis could start: using Foursquare, results were easily accessible.\n",
    "\n",
    "3. **Modelling, Evalutation and iteration**: After data are prepared, one need to think of how can the data be used and visualised, and determine what additional visualisations could help us answer our business problem. First we explored the venues available within a defined radius around each neighborhoods. In order to compare the three cities, the radius was kept constant for each cities. Several radius were tried and it was decided that 500 was an appropriate radius, in order to be able to get all the venues within this radius without limitation of the Foursquare account. The previous step gave us the total number of venues available around all the neighborhoods and allowed for first comparison between the cities, data were displayed in tabular form (Dataframe). In a second phase, we called for the most common types of venues in each neighborhoods. Due to the important number of data, it was chosen to focus on the top 10 (frequency wise) and to display the data in the same dataframe as before, in order to allow fast comparison. As for any data analysis, the whole process of modeling and evaluation was highly iterative and the next step was always influenced by the results that we acquired, sometimes confirming our hypothesis and sometimes denying it. \n"
   ]
  },
  {
   "cell_type": "markdown",
   "metadata": {},
   "source": [
    "#### 4. Results section where you discuss the results.\n",
    "\n",
    "we chose to gathered our main results in a Dataframe (see under) in order to allow for fast comparison between the the cities. Our main results are the following:\n",
    "- Number of neighborhoods: we looked at the number of neighborhoods per city (siehe Dataframe). The city with the highest number of venue is NY, followed by Toronto and then by Zurich.\n",
    "- Density of venues: we calculated what is the density of venues per city and compared them between the three cities: NY has a significantly lower density of venues (all types, as well as food-place) than Toronto and Zurich\n",
    "- Diversity / variety of food places: we look at the number of different type of venues per city. The higher the population (and number of venue), the higher the diversity\n",
    "- Most common venue type: we looked at the the top 15 most common venue in each city. \n",
    "\n",
    "The results will be discussed in the following section.\n",
    "\n",
    "**see Dataframe and graph in the code / presentation for details**"
   ]
  },
  {
   "cell_type": "markdown",
   "metadata": {},
   "source": [
    "#### 5. Discussion \n",
    "\n",
    "Out of our analyse, the following conclusion can be made:\n",
    "1. Number of neighborhoods:\n",
    "    - we expected a correlation between the number of inhabitants and the number of neighborhoods.\n",
    "    - This was confirmed by the results: the bigger the city, the higher the numbers of neighborhoods.\n",
    "2. Density of venues (all types):\n",
    "    - we had expected a correlation between the size of a city and the density of venues per neighborhoods.\n",
    "    - Surprisingly, the density and the number of inhabitants were not correlated. Zurich and Toronto have a higher density of venues per neighborhood than NY.\n",
    "    - The explanation might lie in the fact that NY has a great amount of neighborhood that are primarily residential (example Woodrow, with only 5 food venues), when the neighborhoods of Zurich city are closer to the city center and therefore more \"lively\"\n",
    "3. Density of venues (food places):\n",
    "    - Similarly as for the all-types venues, the density is lower in NY as in ZH and TO. \n",
    "    - Interestingly, ZH has a higher density than Toronto. \n",
    "    - Since the density of all-type venue for TO and ZU are the same, this means that TO has a higher density of non-food-places than Zurich.\n",
    "4. Diversity of food places (number of different type of venues): \n",
    "    - we expected bigger city to have a higher diversity in food places. Bigger cities are in general more multi cultural than smaller ones, and have therefore more diversity. \n",
    "    - As expected, the diversity is correlated to the size of the city (and the number of venues)\n",
    "5. Most common places:  for two cities, some very unspecific venues (\"restaurant\") made it to the top three. This shows us that the quality of the data on Foursquare could be improved and be more specific and / or that our analysis would require further digging in the data in order to refine it. \n",
    "    - \"Indian restanrant\" is not to be seen in the top 10 of each city, meaning that the market is not saturated with this type of restaurant. Because the demand for exotic Cuisine in all the city is high, we can supposed that indian restaurant could definatly be successfull in any city. \n",
    " \n",
    "**Conclusion**: we could observed several differences between the three cities, some results confirmed our impression, when some did not:\n",
    "- density of venue (food places and non food places) is high in smaller city than in bigger one\n",
    "- the diversity in type of venue is higher in bigger city than in smaller cities\n",
    "Out of the data that were analysed, we can tell that Zurich seems more similar to Toronto than New York in terms of venues. However, it not possible to make any sound recommandation to the owner of little India about where to open his new restaurant because of the following reasons: \n",
    "- the analysis we made gives an overview of the situation in these three cities, but lack details regarding the detailled type of most common restaurants (category \"Restaurant\" is in the top 3 of most common venues)\n",
    "- we might have looked at a too big section of New York: the \"Little India\" restaurant is though to open in a commercial neighborhoods, so we should remove the residential neighborhoods of NY\n",
    "\n",
    "**More critics and potential for improvements:** \n",
    "- is the database for Zurich, NY and Toronto on Foursquare comparable? we know that some application are more popular in some places are other (for instance Whatsapp very popular in Europe but not in the US)\n",
    "- is a neighborhood in Zurich equivalent to one in NY? number of inhabitants per neighborhood within a radius was here consired to be comparable, is it?\n",
    "- a high number of one restaurant type is a sign that the population likes indian, but what is the tendency of time? going down or up? trends are more important than fix numbers / how can one asses the effect of concurrence?\n",
    "\n"
   ]
  },
  {
   "cell_type": "markdown",
   "metadata": {},
   "source": [
    "#### 6. Conclusion section where you conclude the report.\n",
    "\n",
    "This analysis shows an interesting use case for Data Analysis based on Data from Foursquare. Without having access to expensive database, it is possible to gain very efficiently some insights about cities and their features. The number and complexity of these analysis are pretty much endless and can be very powerful. \n",
    "\n",
    "This analyse also showed us the some limitations: the pre processing of data is a key to sucessful analysis, and sometimes, the results that you get are not the one expected, and more work is needed in order to meet the goals of a business case. In one concept: Iteration is the key to powerful data science analysis!"
   ]
  },
  {
   "cell_type": "code",
   "execution_count": 2,
   "metadata": {},
   "outputs": [],
   "source": [
    "# This work was completed with the help of Y. Kaelin"
   ]
  },
  {
   "cell_type": "code",
   "execution_count": null,
   "metadata": {},
   "outputs": [],
   "source": []
  }
 ],
 "metadata": {
  "kernelspec": {
   "display_name": "Python",
   "language": "python",
   "name": "conda-env-python-py"
  },
  "language_info": {
   "codemirror_mode": {
    "name": "ipython",
    "version": 3
   },
   "file_extension": ".py",
   "mimetype": "text/x-python",
   "name": "python",
   "nbconvert_exporter": "python",
   "pygments_lexer": "ipython3",
   "version": "3.6.10"
  }
 },
 "nbformat": 4,
 "nbformat_minor": 4
}
